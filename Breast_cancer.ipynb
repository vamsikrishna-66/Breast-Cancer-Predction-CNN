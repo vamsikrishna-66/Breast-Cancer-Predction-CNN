{
 "cells": [
  {
   "cell_type": "markdown",
   "metadata": {},
   "source": [
    "# importing the libraries"
   ]
  },
  {
   "cell_type": "code",
   "execution_count": 1,
   "metadata": {},
   "outputs": [],
   "source": [
    "import numpy as np\n",
    "import pandas as pd0\n",
    "%matplotlib inline\n",
    "import matplotlib as mpl\n",
    "import matplotlib.pyplot as plt"
   ]
  },
  {
   "cell_type": "code",
   "execution_count": 2,
   "metadata": {},
   "outputs": [],
   "source": [
    "import tensorflow as tf\n",
    "from tensorflow import keras"
   ]
  },
  {
   "cell_type": "markdown",
   "metadata": {},
   "source": [
    "# Loading the dataset"
   ]
  },
  {
   "cell_type": "code",
   "execution_count": 3,
   "metadata": {},
   "outputs": [],
   "source": [
    "train_dir=r'C:/Users/Vamsi/Documents/breast/data/train'\n",
    "validation_dir=r'C:/Users/Vamsi/Documents/breast/data/validation'\n",
    "test_dir=r'C:/Users/Vamsi/Documents/breast/data/test'"
   ]
  },
  {
   "cell_type": "code",
   "execution_count": 4,
   "metadata": {},
   "outputs": [],
   "source": [
    "from tensorflow.keras.preprocessing.image import ImageDataGenerator"
   ]
  },
  {
   "cell_type": "markdown",
   "metadata": {},
   "source": [
    "# DATA AUGUMENTATION"
   ]
  },
  {
   "cell_type": "code",
   "execution_count": 126,
   "metadata": {},
   "outputs": [],
   "source": [
    "train_datagen=ImageDataGenerator(\n",
    "rescale=1./255,\n",
    "rotation_range=40,\n",
    "width_shift_range=0.2,\n",
    "height_shift_range=0.2,\n",
    "shear_range=0.2,\n",
    "zoom_range=0.2,\n",
    "horizontal_flip=True,)\n",
    "\n",
    "\n",
    "test_datagen = ImageDataGenerator(rescale=1./255)\n",
    "\n",
    "\n"
   ]
  },
  {
   "cell_type": "code",
   "execution_count": 127,
   "metadata": {},
   "outputs": [
    {
     "name": "stdout",
     "output_type": "stream",
     "text": [
      "Found 4192 images belonging to 2 classes.\n",
      "Found 2223 images belonging to 2 classes.\n"
     ]
    }
   ],
   "source": [
    "train_generator = train_datagen.flow_from_directory(\n",
    "            train_dir,\n",
    "            target_size=(150, 150),\n",
    "            batch_size=32,\n",
    "            class_mode='binary')\n",
    "\n",
    "validation_generator = test_datagen.flow_from_directory(\n",
    "            validation_dir,\n",
    "            target_size=(150, 150),\n",
    "            batch_size=32,\n",
    "            class_mode='binary')"
   ]
  },
  {
   "cell_type": "code",
   "execution_count": 6,
   "metadata": {},
   "outputs": [],
   "source": [
    "from tensorflow.keras import layers\n",
    "from tensorflow.keras import models"
   ]
  },
  {
   "cell_type": "code",
   "execution_count": 7,
   "metadata": {},
   "outputs": [
    {
     "name": "stderr",
     "output_type": "stream",
     "text": [
      "c:\\Users\\Vamsi\\anaconda3\\lib\\site-packages\\keras\\optimizer_v2\\rmsprop.py:130: UserWarning: The `lr` argument is deprecated, use `learning_rate` instead.\n",
      "  super(RMSprop, self).__init__(name, **kwargs)\n"
     ]
    }
   ],
   "source": [
    "model=models.Sequential()\n",
    "model.add(layers.Conv2D(32,(3,3),activation=\"relu\",input_shape=(150,150,3)))\n",
    "model.add(layers.MaxPooling2D((2, 2)))\n",
    "\n",
    "model.add(layers.Conv2D(64,(3,3),activation=\"relu\"))\n",
    "model.add(layers.MaxPooling2D((2, 2)))\n",
    "\n",
    "model.add(layers.Conv2D(128,(3,3),activation=\"relu\"))\n",
    "model.add(layers.MaxPooling2D((2,2)))\n",
    "\n",
    "model.add(layers.Conv2D(128,(3,3),activation=\"relu\"))\n",
    "model.add(layers.MaxPooling2D((2,2)))\n",
    "\n",
    "model.add(layers.Flatten())\n",
    "\n",
    "model.add(layers.Dropout(0.5))\n",
    "\n",
    "model.add(layers.Dense(512, activation='relu'))\n",
    "\n",
    "model.add(layers.Dense(1, activation='sigmoid'))\n",
    "\n",
    "from tensorflow.keras import optimizers\n",
    "#Cross-entropy loss, measures the performance of a classification model whose output is a probability value between 0 and 1\n",
    "#Cross-entropy loss increases as the predicted probability diverges from the actual label\n",
    "model.compile(loss='binary_crossentropy',\n",
    "                  optimizer=optimizers.RMSprop(lr=1e-4),\n",
    "                  metrics=['acc'])"
   ]
  },
  {
   "cell_type": "code",
   "execution_count": 130,
   "metadata": {},
   "outputs": [
    {
     "name": "stderr",
     "output_type": "stream",
     "text": [
      "C:\\Users\\Vamsi\\AppData\\Local\\Temp/ipykernel_27244/575911371.py:1: UserWarning: `Model.fit_generator` is deprecated and will be removed in a future version. Please use `Model.fit`, which supports generators.\n",
      "  history = model.fit_generator(\n"
     ]
    },
    {
     "name": "stdout",
     "output_type": "stream",
     "text": [
      "Epoch 1/10\n",
      "50/50 [==============================] - 72s 1s/step - loss: 0.3656 - acc: 0.8506 - val_loss: 1.1294 - val_acc: 0.8294\n",
      "Epoch 2/10\n",
      "50/50 [==============================] - 71s 1s/step - loss: 0.3855 - acc: 0.8269 - val_loss: 1.1370 - val_acc: 0.8244\n",
      "Epoch 3/10\n",
      "50/50 [==============================] - 71s 1s/step - loss: 0.3665 - acc: 0.8475 - val_loss: 1.6776 - val_acc: 0.8238\n",
      "Epoch 4/10\n",
      "50/50 [==============================] - 72s 1s/step - loss: 0.3699 - acc: 0.8450 - val_loss: 1.8222 - val_acc: 0.8244\n",
      "Epoch 5/10\n",
      "50/50 [==============================] - 71s 1s/step - loss: 0.3844 - acc: 0.8356 - val_loss: 1.1928 - val_acc: 0.7800\n",
      "Epoch 6/10\n",
      "50/50 [==============================] - 70s 1s/step - loss: 0.3708 - acc: 0.8444 - val_loss: 1.0997 - val_acc: 0.8231\n",
      "Epoch 7/10\n",
      "50/50 [==============================] - 70s 1s/step - loss: 0.3681 - acc: 0.8406 - val_loss: 1.5245 - val_acc: 0.7981\n",
      "Epoch 8/10\n",
      "50/50 [==============================] - 71s 1s/step - loss: 0.3701 - acc: 0.8350 - val_loss: 1.2460 - val_acc: 0.8206\n",
      "Epoch 9/10\n",
      "50/50 [==============================] - 71s 1s/step - loss: 0.3819 - acc: 0.8438 - val_loss: 1.2109 - val_acc: 0.8194\n",
      "Epoch 10/10\n",
      "50/50 [==============================] - 70s 1s/step - loss: 0.3541 - acc: 0.8525 - val_loss: 1.2706 - val_acc: 0.8181\n"
     ]
    }
   ],
   "source": [
    "history = model.fit_generator(\n",
    "          train_generator,\n",
    "          steps_per_epoch=50,   #total_training_images/batch_size\n",
    "          epochs=10,\n",
    "          validation_data=validation_generator,\n",
    "          validation_steps=50,\n",
    "          )"
   ]
  },
  {
   "cell_type": "code",
   "execution_count": 146,
   "metadata": {},
   "outputs": [
    {
     "data": {
      "image/png": "[encoded data removed]",
      "text/plain": [
       "<Figure size 864x360 with 1 Axes>"
      ]
     },
     "metadata": {
      "needs_background": "light"
     },
     "output_type": "display_data"
    }
   ],
   "source": [
    "plt.figure(figsize=(12,5))\n",
    "plt.plot(history.history['loss'])\n",
    "plt.plot(history.history['val_loss'])\n",
    "plt.xlabel('epochs')\n",
    "plt.ylabel('loss')\n",
    "plt.legend(['train_data','validation_data'])\n",
    "plt.title('loss analysis')\n",
    "plt.show()"
   ]
  },
  {
   "cell_type": "code",
   "execution_count": 147,
   "metadata": {},
   "outputs": [
    {
     "data": {
      "image/png": "[encoded data removed]",
      "text/plain": [
       "<Figure size 864x360 with 1 Axes>"
      ]
     },
     "metadata": {
      "needs_background": "light"
     },
     "output_type": "display_data"
    }
   ],
   "source": [
    "plt.figure(figsize=(12,5))\n",
    "plt.plot(history.history['acc'])\n",
    "plt.plot(history.history['val_acc'])\n",
    "plt.xlabel('epochs')\n",
    "plt.ylabel('accuracy')\n",
    "plt.legend(['train_data','validation_data'])\n",
    "plt.title('accuracy analysis')\n",
    "plt.show()"
   ]
  },
  {
   "cell_type": "markdown",
   "metadata": {},
   "source": [
    "LOADING TEST FILE"
   ]
  },
  {
   "cell_type": "code",
   "execution_count": 131,
   "metadata": {},
   "outputs": [
    {
     "name": "stdout",
     "output_type": "stream",
     "text": [
      "Found 1494 images belonging to 2 classes.\n"
     ]
    }
   ],
   "source": [
    "test_generator = test_datagen.flow_from_directory(\n",
    "            test_dir,\n",
    "            target_size=(150, 150),\n",
    "            batch_size=32,\n",
    "            class_mode='binary',\n",
    "            shuffle=False)"
   ]
  },
  {
   "cell_type": "markdown",
   "metadata": {},
   "source": [
    "PREDICTION USING TEST DATA"
   ]
  },
  {
   "cell_type": "code",
   "execution_count": 139,
   "metadata": {},
   "outputs": [],
   "source": [
    "y_pred=model.predict(test_generator[1][0])\n"
   ]
  },
  {
   "cell_type": "code",
   "execution_count": 140,
   "metadata": {},
   "outputs": [],
   "source": [
    "for i in range(len(y_pred)):\n",
    "    if y_pred[i]>0.5:\n",
    "        y_pred[i]=1\n",
    "    else:\n",
    "        y_pred[i]=0\n",
    "y_pred=y_pred.astype(int)"
   ]
  },
  {
   "cell_type": "markdown",
   "metadata": {},
   "source": [
    "PREDICTED CLASSES"
   ]
  },
  {
   "cell_type": "code",
   "execution_count": 141,
   "metadata": {},
   "outputs": [
    {
     "data": {
      "text/plain": [
       "array([['malignant'],\n",
       "       ['benign'],\n",
       "       ['benign'],\n",
       "       ['benign'],\n",
       "       ['malignant'],\n",
       "       ['malignant'],\n",
       "       ['malignant'],\n",
       "       ['benign'],\n",
       "       ['benign'],\n",
       "       ['malignant'],\n",
       "       ['malignant'],\n",
       "       ['benign'],\n",
       "       ['malignant'],\n",
       "       ['benign'],\n",
       "       ['benign'],\n",
       "       ['benign'],\n",
       "       ['benign'],\n",
       "       ['benign'],\n",
       "       ['malignant'],\n",
       "       ['benign'],\n",
       "       ['benign'],\n",
       "       ['benign'],\n",
       "       ['benign'],\n",
       "       ['benign'],\n",
       "       ['benign'],\n",
       "       ['benign'],\n",
       "       ['malignant'],\n",
       "       ['malignant'],\n",
       "       ['benign'],\n",
       "       ['benign'],\n",
       "       ['benign'],\n",
       "       ['benign']], dtype='<U9')"
      ]
     },
     "execution_count": 141,
     "metadata": {},
     "output_type": "execute_result"
    }
   ],
   "source": [
    "class_names=['benign','malignant']\n",
    "np.array(class_names)[y_pred]"
   ]
  },
  {
   "cell_type": "markdown",
   "metadata": {},
   "source": [
    "TEST ACCURACY"
   ]
  },
  {
   "cell_type": "code",
   "execution_count": 143,
   "metadata": {},
   "outputs": [
    {
     "name": "stdout",
     "output_type": "stream",
     "text": [
      "40/40 [==============================] - 22s 546ms/step - loss: 0.2211 - acc: 0.9273\n"
     ]
    }
   ],
   "source": [
    "loss,accuracy=model.evaluate(test_generator, steps=40)"
   ]
  },
  {
   "cell_type": "code",
   "execution_count": null,
   "metadata": {},
   "outputs": [],
   "source": []
  },
  {
   "cell_type": "code",
   "execution_count": null,
   "metadata": {},
   "outputs": [],
   "source": []
  },
  {
   "cell_type": "code",
   "execution_count": null,
   "metadata": {},
   "outputs": [],
   "source": []
  }
 ],
 "metadata": {
  "kernelspec": {
   "display_name": "Python 3.9.7 ('base')",
   "language": "python",
   "name": "python3"
  },
  "language_info": {
   "codemirror_mode": {
    "name": "ipython",
    "version": 3
   },
   "file_extension": ".py",
   "mimetype": "text/x-python",
   "name": "python",
   "nbconvert_exporter": "python",
   "pygments_lexer": "ipython3",
   "version": "3.9.7"
  },
  "vscode": {
   "interpreter": {
    "hash": "65b3d6b3481aa8050dd7781047c069686b836296c884f5bf792da2496f80710f"
   }
  }
 },
 "nbformat": 4,
 "nbformat_minor": 4
}
